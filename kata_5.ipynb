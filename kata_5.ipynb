{
 "cells": [
  {
   "cell_type": "code",
   "execution_count": 3,
   "metadata": {},
   "outputs": [
    {
     "name": "stdout",
     "output_type": "stream",
     "text": [
      "628949330\n",
      "390577533.93\n"
     ]
    }
   ],
   "source": [
    "D_tierra=149597870\n",
    "D_jupiter=778547200\n",
    "D_tj=D_tierra-D_jupiter\n",
    "print(abs(D_tj))\n",
    "D_M=D_tj*.621\n",
    "print(abs(D_M))"
   ]
  },
  {
   "cell_type": "code",
   "execution_count": 8,
   "metadata": {},
   "outputs": [
    {
     "name": "stdout",
     "output_type": "stream",
     "text": [
      "Introduzca las distancias en Km para el planeta 1 y el planeta 2 respectivamente\n",
      "8836072.38\n"
     ]
    }
   ],
   "source": [
    "print(\"Introduzca las distancias en Km para el planeta 1 y el planeta 2 respectivamente\")\n",
    "planeta_1=float(input())\n",
    "planeta_2=float(input())\n",
    "dp12=(planeta_1-planeta_2)*0.621\n",
    "print(abs(dp12))"
   ]
  }
 ],
 "metadata": {
  "interpreter": {
   "hash": "a25b2d42e0fe57251b6ece2b75d30429fe26895efea1faac6949f166a7477be7"
  },
  "kernelspec": {
   "display_name": "Python 3.10.2 64-bit",
   "language": "python",
   "name": "python3"
  },
  "language_info": {
   "codemirror_mode": {
    "name": "ipython",
    "version": 3
   },
   "file_extension": ".py",
   "mimetype": "text/x-python",
   "name": "python",
   "nbconvert_exporter": "python",
   "pygments_lexer": "ipython3",
   "version": "3.10.2"
  },
  "orig_nbformat": 4
 },
 "nbformat": 4,
 "nbformat_minor": 2
}
