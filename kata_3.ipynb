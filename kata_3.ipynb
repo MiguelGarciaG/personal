{
 "cells": [
  {
   "cell_type": "code",
   "execution_count": 22,
   "metadata": {},
   "outputs": [
    {
     "name": "stdout",
     "output_type": "stream",
     "text": [
      "Introduzca la velocidad del asteroide localizado\n",
      "sin acontecimientos impoortantes\n"
     ]
    }
   ],
   "source": [
    "print(\"Introduzca la velocidad del asteroide localizado\")\n",
    "asteroide=float(input())\n",
    "\n",
    "if asteroide>25:\n",
    "    print(\"Alerta, asteroide acercandose peligrosamente, !EVACUEN¡\")\n",
    "elif 20<=asteroide<=25:\n",
    "    print(\"Hay un bolido en el cielo nocturno\")\n",
    "else:\n",
    "    print(\"sin acontecimientos impoortantes\")"
   ]
  },
  {
   "cell_type": "code",
   "execution_count": 26,
   "metadata": {},
   "outputs": [
    {
     "name": "stdout",
     "output_type": "stream",
     "text": [
      "Introduzca la velocidad del asteroide localizado\n",
      "no m\n"
     ]
    }
   ],
   "source": [
    "print(\"Introduzca la velocidad del asteroide localizado\")\n",
    "v_asteroide=float(input())\n",
    "t_asteroide=float(input())\n",
    "if v_asteroide>25 and t_asteroide>25:\n",
    "    print(\"Alerta, asteroide acercandose peligrosamente, !EVACUEN¡\")\n",
    "elif 20<=v_asteroide<=25 and t_asteroide<=25:\n",
    "    print(\"Hay un bolido en el cielo nocturno\")\n",
    "elif t_asteroide<25:\n",
    "    print(\"posible impacto con daño menor\") #no hay datos en la red que proporcionen posibles escenarios\n",
    "else:\n",
    "    print(\"sin acontecimientos impoortantes\")"
   ]
  }
 ],
 "metadata": {
  "interpreter": {
   "hash": "a25b2d42e0fe57251b6ece2b75d30429fe26895efea1faac6949f166a7477be7"
  },
  "kernelspec": {
   "display_name": "Python 3.10.2 64-bit",
   "language": "python",
   "name": "python3"
  },
  "language_info": {
   "codemirror_mode": {
    "name": "ipython",
    "version": 3
   },
   "file_extension": ".py",
   "mimetype": "text/x-python",
   "name": "python",
   "nbconvert_exporter": "python",
   "pygments_lexer": "ipython3",
   "version": "3.10.2"
  },
  "orig_nbformat": 4
 },
 "nbformat": 4,
 "nbformat_minor": 2
}
